{
  "nbformat": 4,
  "nbformat_minor": 0,
  "metadata": {
    "colab": {
      "provenance": []
    },
    "kernelspec": {
      "name": "python3",
      "display_name": "Python 3"
    },
    "language_info": {
      "name": "python"
    }
  },
  "cells": [
    {
      "cell_type": "markdown",
      "source": [
        "#My notebook\n",
        "* ~~Hola~~\n",
        "* hello\n",
        "***bonjour**\n",
        "\n",
        "\n"
      ],
      "metadata": {
        "id": "H7lq2-QsXZEC"
      }
    },
    {
      "cell_type": "code",
      "source": [
        "print(\"hello world\")"
      ],
      "metadata": {
        "id": "TO4bQuZJXegj"
      },
      "execution_count": null,
      "outputs": []
    }
  ]
}
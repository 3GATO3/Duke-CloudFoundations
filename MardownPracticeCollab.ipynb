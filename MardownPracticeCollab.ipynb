{
  "nbformat": 4,
  "nbformat_minor": 0,
  "metadata": {
    "colab": {
      "provenance": [],
      "authorship_tag": "ABX9TyPVPE54+p9pT1W+npDvkM31",
      "include_colab_link": true
    },
    "kernelspec": {
      "name": "python3",
      "display_name": "Python 3"
    },
    "language_info": {
      "name": "python"
    }
  },
  "cells": [
    {
      "cell_type": "markdown",
      "metadata": {
        "id": "view-in-github",
        "colab_type": "text"
      },
      "source": [
        "<a href=\"https://colab.research.google.com/github/3GATO3/Duke-CloudFoundations/blob/main/MardownPracticeCollab.ipynb\" target=\"_parent\"><img src=\"https://colab.research.google.com/assets/colab-badge.svg\" alt=\"Open In Colab\"/></a>"
      ]
    },
    {
      "cell_type": "markdown",
      "source": [
        "#My notebook\n",
        "* ~~Hola~~\n",
        "* hello\n",
        "***bonjour**\n",
        "\n",
        "\n"
      ],
      "metadata": {
        "id": "H7lq2-QsXZEC"
      }
    },
    {
      "cell_type": "code",
      "source": [
        "print(\"hello world\")"
      ],
      "metadata": {
        "id": "TO4bQuZJXegj"
      },
      "execution_count": null,
      "outputs": []
    }
  ]
}